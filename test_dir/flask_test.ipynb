{
 "cells": [
  {
   "metadata": {},
   "cell_type": "markdown",
   "source": "用flask框架实现简单测试",
   "id": "9796ff2a2a653af7"
  },
  {
   "metadata": {},
   "cell_type": "markdown",
   "source": [
    "好好好，从零开始学flask\n",
    "框架大致结构：\n",
    "调用flask包，会提供一个类(classFlask(app))，用装饰器告诉flask哪个URL，触发装饰器下面的函数。\n",
    "形参‘/’和下面的函数构成一一对应关系。\n",
    "核心就是用装饰器绑定url，再触发函数。"
   ],
   "id": "90c2eb7585dc9b5e"
  },
  {
   "cell_type": "code",
   "id": "initial_id",
   "metadata": {
    "collapsed": true,
    "ExecuteTime": {
     "end_time": "2024-12-25T15:09:07.407222Z",
     "start_time": "2024-12-25T15:01:04.141942Z"
    }
   },
   "source": [
    "#这是一个基础flask框架\n",
    "from flask import Flask, render_template\n",
    "\n",
    "app = Flask(__name__)\n",
    "\n",
    "\n",
    "# 创建了网址 /show/info 和函数index之间的对应关系，以后用户在浏览器上访问/show/info，网站自动执行index函数\n",
    "@app.route('/show/info',methods=['GET'])\n",
    "def index():\n",
    "    # 默认去项目根目录下templates文件夹中寻找\n",
    "    return render_template('htmltest.html')\n",
    "\n",
    "\n",
    "if __name__ == '__main__':\n",
    "    app.run()\n"
   ],
   "outputs": [
    {
     "name": "stdout",
     "output_type": "stream",
     "text": [
      " * Serving Flask app '__main__'\n",
      " * Debug mode: off\n"
     ]
    },
    {
     "name": "stderr",
     "output_type": "stream",
     "text": [
      "WARNING: This is a development server. Do not use it in a production deployment. Use a production WSGI server instead.\n",
      " * Running on http://127.0.0.1:5000\n",
      "Press CTRL+C to quit\n",
      "127.0.0.1 - - [25/Dec/2024 23:01:07] \"GET /show/info HTTP/1.1\" 200 -\n",
      "127.0.0.1 - - [25/Dec/2024 23:01:07] \"GET /show/info HTTP/1.1\" 200 -\n",
      "127.0.0.1 - - [25/Dec/2024 23:01:08] \"GET /show/info HTTP/1.1\" 200 -\n",
      "127.0.0.1 - - [25/Dec/2024 23:01:11] \"GET /show/info HTTP/1.1\" 200 -\n",
      "127.0.0.1 - - [25/Dec/2024 23:01:14] \"GET /show/info HTTP/1.1\" 200 -\n",
      "127.0.0.1 - - [25/Dec/2024 23:01:19] \"GET /show/info HTTP/1.1\" 200 -\n",
      "127.0.0.1 - - [25/Dec/2024 23:01:45] \"GET /show/info HTTP/1.1\" 200 -\n",
      "127.0.0.1 - - [25/Dec/2024 23:01:46] \"GET /show/info HTTP/1.1\" 200 -\n",
      "127.0.0.1 - - [25/Dec/2024 23:01:47] \"GET /show/info HTTP/1.1\" 200 -\n",
      "127.0.0.1 - - [25/Dec/2024 23:01:48] \"GET /show/info HTTP/1.1\" 200 -\n",
      "127.0.0.1 - - [25/Dec/2024 23:01:48] \"GET /show/info HTTP/1.1\" 200 -\n",
      "127.0.0.1 - - [25/Dec/2024 23:01:49] \"GET /show/info HTTP/1.1\" 200 -\n",
      "127.0.0.1 - - [25/Dec/2024 23:01:50] \"GET /show/info HTTP/1.1\" 200 -\n",
      "127.0.0.1 - - [25/Dec/2024 23:01:51] \"GET /show/info HTTP/1.1\" 200 -\n",
      "127.0.0.1 - - [25/Dec/2024 23:04:38] \"GET /show/info HTTP/1.1\" 200 -\n",
      "127.0.0.1 - - [25/Dec/2024 23:04:39] \"GET /show/info HTTP/1.1\" 200 -\n",
      "127.0.0.1 - - [25/Dec/2024 23:04:39] \"GET /show/info HTTP/1.1\" 200 -\n",
      "127.0.0.1 - - [25/Dec/2024 23:04:39] \"GET /show/info HTTP/1.1\" 200 -\n",
      "127.0.0.1 - - [25/Dec/2024 23:04:46] \"GET /show/info HTTP/1.1\" 200 -\n",
      "127.0.0.1 - - [25/Dec/2024 23:04:47] \"GET /show/info HTTP/1.1\" 200 -\n",
      "127.0.0.1 - - [25/Dec/2024 23:05:38] \"GET / HTTP/1.1\" 404 -\n",
      "127.0.0.1 - - [25/Dec/2024 23:06:02] \"GET /show/info HTTP/1.1\" 200 -\n",
      "127.0.0.1 - - [25/Dec/2024 23:06:54] \"GET / HTTP/1.1\" 404 -\n",
      "127.0.0.1 - - [25/Dec/2024 23:08:37] \"GET / HTTP/1.1\" 404 -\n",
      "127.0.0.1 - - [25/Dec/2024 23:08:39] \"GET / HTTP/1.1\" 404 -\n",
      "127.0.0.1 - - [25/Dec/2024 23:08:40] \"GET / HTTP/1.1\" 404 -\n",
      "127.0.0.1 - - [25/Dec/2024 23:08:40] \"GET / HTTP/1.1\" 404 -\n",
      "127.0.0.1 - - [25/Dec/2024 23:08:45] \"GET / HTTP/1.1\" 404 -\n",
      "127.0.0.1 - - [25/Dec/2024 23:08:45] \"GET / HTTP/1.1\" 404 -\n",
      "127.0.0.1 - - [25/Dec/2024 23:08:46] \"GET / HTTP/1.1\" 404 -\n",
      "127.0.0.1 - - [25/Dec/2024 23:08:51] \"GET / HTTP/1.1\" 404 -\n",
      "127.0.0.1 - - [25/Dec/2024 23:08:52] \"GET / HTTP/1.1\" 404 -\n"
     ]
    }
   ],
   "execution_count": 16
  }
 ],
 "metadata": {
  "kernelspec": {
   "display_name": "Python 3",
   "language": "python",
   "name": "python3"
  },
  "language_info": {
   "codemirror_mode": {
    "name": "ipython",
    "version": 2
   },
   "file_extension": ".py",
   "mimetype": "text/x-python",
   "name": "python",
   "nbconvert_exporter": "python",
   "pygments_lexer": "ipython2",
   "version": "2.7.6"
  }
 },
 "nbformat": 4,
 "nbformat_minor": 5
}
