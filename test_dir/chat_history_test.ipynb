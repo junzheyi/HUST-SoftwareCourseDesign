{
 "cells": [
  {
   "cell_type": "code",
   "id": "initial_id",
   "metadata": {
    "collapsed": true,
    "ExecuteTime": {
     "end_time": "2024-12-25T12:01:29.588511Z",
     "start_time": "2024-12-25T12:01:21.007298Z"
    }
   },
   "source": [
    "from langchain_ollama import ChatOllama\n",
    "\n",
    "model = ChatOllama(model=\"qwen:7b\", temperature=0.7)\n",
    "\n",
    "messages = [\n",
    "    (\"human\", \"你好呀\"),\n",
    "]\n",
    "\n",
    "for chunk in model.stream(messages):\n",
    "    print(chunk.content, end='', flush=True)\n"
   ],
   "outputs": [
    {
     "name": "stdout",
     "output_type": "stream",
     "text": [
      "你好！有什么问题或需要帮助吗？"
     ]
    }
   ],
   "execution_count": 3
  },
  {
   "metadata": {
    "ExecuteTime": {
     "end_time": "2024-12-25T12:01:29.769095Z",
     "start_time": "2024-12-25T12:01:29.588511Z"
    }
   },
   "cell_type": "code",
   "source": [
    "from langchain.chains import ConversationChain\n",
    "from langchain.memory import ConversationBufferMemory\n",
    "from langchain.llms import OpenAI"
   ],
   "id": "aa4dc5e5375ec03c",
   "outputs": [],
   "execution_count": 4
  },
  {
   "metadata": {
    "ExecuteTime": {
     "end_time": "2024-12-25T12:03:14.581153Z",
     "start_time": "2024-12-25T12:01:30.993461Z"
    }
   },
   "cell_type": "code",
   "source": [
    "memory = ConversationBufferMemory()\n",
    "\n",
    "conversation = ConversationChain(\n",
    "    llm=model,\n",
    "    memory=memory,\n",
    "    verbose=True\n",
    ")\n",
    "\n",
    "# 进行对话\n",
    "response = conversation.predict(input=\"你好，我是一个华中科技大学的学生。\")\n",
    "print(\"AI:\", response)\n",
    "\n",
    "response = conversation.predict(input=\"能给我一些在学校里打羽毛球的建议吗？\")\n",
    "print(\"AI:\", response)\n",
    "\n",
    "response = conversation.predict(input=\"我是哪里的学生\")\n",
    "print(\"AI:\", response)\n"
   ],
   "id": "9616fd77b55d5c83",
   "outputs": [
    {
     "name": "stderr",
     "output_type": "stream",
     "text": [
      "C:\\Users\\86183\\AppData\\Local\\Temp\\ipykernel_19412\\1663596655.py:1: LangChainDeprecationWarning: Please see the migration guide at: https://python.langchain.com/docs/versions/migrating_memory/\n",
      "  memory = ConversationBufferMemory()\n",
      "C:\\Users\\86183\\AppData\\Local\\Temp\\ipykernel_19412\\1663596655.py:3: LangChainDeprecationWarning: The class `ConversationChain` was deprecated in LangChain 0.2.7 and will be removed in 1.0. Use :meth:`~RunnableWithMessageHistory: https://python.langchain.com/v0.2/api_reference/core/runnables/langchain_core.runnables.history.RunnableWithMessageHistory.html` instead.\n",
      "  conversation = ConversationChain(\n"
     ]
    },
    {
     "name": "stdout",
     "output_type": "stream",
     "text": [
      "\n",
      "\n",
      "\u001B[1m> Entering new ConversationChain chain...\u001B[0m\n",
      "Prompt after formatting:\n",
      "\u001B[32;1m\u001B[1;3mThe following is a friendly conversation between a human and an AI. The AI is talkative and provides lots of specific details from its context. If the AI does not know the answer to a question, it truthfully says it does not know.\n",
      "\n",
      "Current conversation:\n",
      "\n",
      "Human: 你好，我是一个华中科技大学的学生。\n",
      "AI:\u001B[0m\n",
      "\n",
      "\u001B[1m> Finished chain.\u001B[0m\n",
      "AI: 你好！很高兴认识你，华中科技大学的学生。有什么学习或者校园生活上的问题，尽管问我哦。我这里有很多具体的信息和建议可以提供。\n",
      "\n",
      "\n",
      "\u001B[1m> Entering new ConversationChain chain...\u001B[0m\n",
      "Prompt after formatting:\n",
      "\u001B[32;1m\u001B[1;3mThe following is a friendly conversation between a human and an AI. The AI is talkative and provides lots of specific details from its context. If the AI does not know the answer to a question, it truthfully says it does not know.\n",
      "\n",
      "Current conversation:\n",
      "Human: 你好，我是一个华中科技大学的学生。\n",
      "AI: 你好！很高兴认识你，华中科技大学的学生。有什么学习或者校园生活上的问题，尽管问我哦。我这里有很多具体的信息和建议可以提供。\n",
      "Human: 能给我一些在学校里打羽毛球的建议吗？\n",
      "AI:\u001B[0m\n",
      "\n",
      "\u001B[1m> Finished chain.\u001B[0m\n",
      "AI: 当然可以！在学校打羽毛球，以下是一些建议：\n",
      "\n",
      "1. **基本功训练**：确保你掌握了正确的发球、接发球、步伐移动等基本技能。\n",
      "\n",
      "2. **场地适应**：了解学校体育馆或室外羽毛球场的具体规则和特点，以便在不同的场地发挥最佳水平。\n",
      "\n",
      "3. **团队合作**：羽毛球往往需要两个人配合才能得分。因此，培养与队友的默契是非常重要的。\n",
      "\n",
      "4. **训练计划**：制定合理的训练计划，包括每周的练习次数、技术强化的重点等。\n",
      "\n",
      "5. **身心调整**：保持良好的心态和身体状况，这对于提高羽毛球水平至关重要。\n",
      "\n",
      "希望这些建议对你在学校打羽毛球时有所帮助！如果有其他具体问题，随时告诉我哦。\n",
      "\n",
      "\n",
      "\u001B[1m> Entering new ConversationChain chain...\u001B[0m\n",
      "Prompt after formatting:\n",
      "\u001B[32;1m\u001B[1;3mThe following is a friendly conversation between a human and an AI. The AI is talkative and provides lots of specific details from its context. If the AI does not know the answer to a question, it truthfully says it does not know.\n",
      "\n",
      "Current conversation:\n",
      "Human: 你好，我是一个华中科技大学的学生。\n",
      "AI: 你好！很高兴认识你，华中科技大学的学生。有什么学习或者校园生活上的问题，尽管问我哦。我这里有很多具体的信息和建议可以提供。\n",
      "Human: 能给我一些在学校里打羽毛球的建议吗？\n",
      "AI: 当然可以！在学校打羽毛球，以下是一些建议：\n",
      "\n",
      "1. **基本功训练**：确保你掌握了正确的发球、接发球、步伐移动等基本技能。\n",
      "\n",
      "2. **场地适应**：了解学校体育馆或室外羽毛球场的具体规则和特点，以便在不同的场地发挥最佳水平。\n",
      "\n",
      "3. **团队合作**：羽毛球往往需要两个人配合才能得分。因此，培养与队友的默契是非常重要的。\n",
      "\n",
      "4. **训练计划**：制定合理的训练计划，包括每周的练习次数、技术强化的重点等。\n",
      "\n",
      "5. **身心调整**：保持良好的心态和身体状况，这对于提高羽毛球水平至关重要。\n",
      "\n",
      "希望这些建议对你在学校打羽毛球时有所帮助！如果有其他具体问题，随时告诉我哦。\n",
      "Human: 我是哪里的学生\n",
      "AI:\u001B[0m\n",
      "\n",
      "\u001B[1m> Finished chain.\u001B[0m\n",
      "AI: 你是华中科技大学的学生。\n"
     ]
    }
   ],
   "execution_count": 5
  }
 ],
 "metadata": {
  "kernelspec": {
   "display_name": "Python 3",
   "language": "python",
   "name": "python3"
  },
  "language_info": {
   "codemirror_mode": {
    "name": "ipython",
    "version": 2
   },
   "file_extension": ".py",
   "mimetype": "text/x-python",
   "name": "python",
   "nbconvert_exporter": "python",
   "pygments_lexer": "ipython2",
   "version": "2.7.6"
  }
 },
 "nbformat": 4,
 "nbformat_minor": 5
}
