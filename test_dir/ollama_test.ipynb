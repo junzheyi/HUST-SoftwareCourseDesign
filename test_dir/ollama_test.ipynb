{
 "cells": [
  {
   "cell_type": "code",
   "id": "initial_id",
   "metadata": {
    "collapsed": true,
    "ExecuteTime": {
     "end_time": "2024-12-25T12:01:53.055057Z",
     "start_time": "2024-12-25T12:01:50.332639Z"
    }
   },
   "source": "!pip install langchain-ollama langchain langchain-community Pillow faiss-cpu",
   "outputs": [
    {
     "name": "stdout",
     "output_type": "stream",
     "text": [
      "Requirement already satisfied: langchain-ollama in d:\\app\\anaconda3\\envs\\coursedesign\\lib\\site-packages (0.2.2)\n",
      "Requirement already satisfied: langchain in d:\\app\\anaconda3\\envs\\coursedesign\\lib\\site-packages (0.3.13)\n",
      "Requirement already satisfied: langchain-community in d:\\app\\anaconda3\\envs\\coursedesign\\lib\\site-packages (0.3.12)\n",
      "Requirement already satisfied: Pillow in d:\\app\\anaconda3\\envs\\coursedesign\\lib\\site-packages (10.3.0)\n",
      "Requirement already satisfied: faiss-cpu in d:\\app\\anaconda3\\envs\\coursedesign\\lib\\site-packages (1.9.0.post1)\n",
      "Requirement already satisfied: langchain-core<0.4.0,>=0.3.27 in d:\\app\\anaconda3\\envs\\coursedesign\\lib\\site-packages (from langchain-ollama) (0.3.27)\n",
      "Requirement already satisfied: ollama<1,>=0.4.4 in d:\\app\\anaconda3\\envs\\coursedesign\\lib\\site-packages (from langchain-ollama) (0.4.4)\n",
      "Requirement already satisfied: PyYAML>=5.3 in d:\\app\\anaconda3\\envs\\coursedesign\\lib\\site-packages (from langchain) (6.0.1)\n",
      "Requirement already satisfied: SQLAlchemy<3,>=1.4 in d:\\app\\anaconda3\\envs\\coursedesign\\lib\\site-packages (from langchain) (2.0.30)\n",
      "Requirement already satisfied: aiohttp<4.0.0,>=3.8.3 in d:\\app\\anaconda3\\envs\\coursedesign\\lib\\site-packages (from langchain) (3.9.3)\n",
      "Requirement already satisfied: langchain-text-splitters<0.4.0,>=0.3.3 in d:\\app\\anaconda3\\envs\\coursedesign\\lib\\site-packages (from langchain) (0.3.3)\n",
      "Requirement already satisfied: langsmith<0.3,>=0.1.17 in d:\\app\\anaconda3\\envs\\coursedesign\\lib\\site-packages (from langchain) (0.1.147)\n",
      "Requirement already satisfied: numpy<2,>=1.22.4 in d:\\app\\anaconda3\\envs\\coursedesign\\lib\\site-packages (from langchain) (1.26.4)\n",
      "Requirement already satisfied: pydantic<3.0.0,>=2.7.4 in d:\\app\\anaconda3\\envs\\coursedesign\\lib\\site-packages (from langchain) (2.10.3)\n",
      "Requirement already satisfied: requests<3,>=2 in d:\\app\\anaconda3\\envs\\coursedesign\\lib\\site-packages (from langchain) (2.32.3)\n",
      "Requirement already satisfied: tenacity!=8.4.0,<10,>=8.1.0 in c:\\users\\86183\\appdata\\roaming\\python\\python311\\site-packages (from langchain) (8.3.0)\n",
      "Requirement already satisfied: dataclasses-json<0.7,>=0.5.7 in c:\\users\\86183\\appdata\\roaming\\python\\python311\\site-packages (from langchain-community) (0.6.6)\n",
      "Requirement already satisfied: httpx-sse<0.5.0,>=0.4.0 in d:\\app\\anaconda3\\envs\\coursedesign\\lib\\site-packages (from langchain-community) (0.4.0)\n",
      "Requirement already satisfied: pydantic-settings<3.0.0,>=2.4.0 in d:\\app\\anaconda3\\envs\\coursedesign\\lib\\site-packages (from langchain-community) (2.7.0)\n",
      "Requirement already satisfied: packaging in d:\\app\\anaconda3\\envs\\coursedesign\\lib\\site-packages (from faiss-cpu) (23.2)\n",
      "Requirement already satisfied: aiosignal>=1.1.2 in c:\\users\\86183\\appdata\\roaming\\python\\python311\\site-packages (from aiohttp<4.0.0,>=3.8.3->langchain) (1.3.1)\n",
      "Requirement already satisfied: attrs>=17.3.0 in c:\\users\\86183\\appdata\\roaming\\python\\python311\\site-packages (from aiohttp<4.0.0,>=3.8.3->langchain) (23.2.0)\n",
      "Requirement already satisfied: frozenlist>=1.1.1 in c:\\users\\86183\\appdata\\roaming\\python\\python311\\site-packages (from aiohttp<4.0.0,>=3.8.3->langchain) (1.4.1)\n",
      "Requirement already satisfied: multidict<7.0,>=4.5 in c:\\users\\86183\\appdata\\roaming\\python\\python311\\site-packages (from aiohttp<4.0.0,>=3.8.3->langchain) (6.0.5)\n",
      "Requirement already satisfied: yarl<2.0,>=1.0 in c:\\users\\86183\\appdata\\roaming\\python\\python311\\site-packages (from aiohttp<4.0.0,>=3.8.3->langchain) (1.9.4)\n",
      "Requirement already satisfied: marshmallow<4.0.0,>=3.18.0 in c:\\users\\86183\\appdata\\roaming\\python\\python311\\site-packages (from dataclasses-json<0.7,>=0.5.7->langchain-community) (3.21.3)\n",
      "Requirement already satisfied: typing-inspect<1,>=0.4.0 in d:\\app\\anaconda3\\envs\\coursedesign\\lib\\site-packages (from dataclasses-json<0.7,>=0.5.7->langchain-community) (0.9.0)\n",
      "Requirement already satisfied: jsonpatch<2.0,>=1.33 in d:\\app\\anaconda3\\envs\\coursedesign\\lib\\site-packages (from langchain-core<0.4.0,>=0.3.27->langchain-ollama) (1.33)\n",
      "Requirement already satisfied: typing-extensions>=4.7 in d:\\app\\anaconda3\\envs\\coursedesign\\lib\\site-packages (from langchain-core<0.4.0,>=0.3.27->langchain-ollama) (4.12.2)\n",
      "Requirement already satisfied: httpx<1,>=0.23.0 in d:\\app\\anaconda3\\envs\\coursedesign\\lib\\site-packages (from langsmith<0.3,>=0.1.17->langchain) (0.27.0)\n",
      "Requirement already satisfied: orjson<4.0.0,>=3.9.14 in c:\\users\\86183\\appdata\\roaming\\python\\python311\\site-packages (from langsmith<0.3,>=0.1.17->langchain) (3.10.1)\n",
      "Requirement already satisfied: requests-toolbelt<2.0.0,>=1.0.0 in d:\\app\\anaconda3\\envs\\coursedesign\\lib\\site-packages (from langsmith<0.3,>=0.1.17->langchain) (1.0.0)\n",
      "Requirement already satisfied: annotated-types>=0.6.0 in d:\\app\\anaconda3\\envs\\coursedesign\\lib\\site-packages (from pydantic<3.0.0,>=2.7.4->langchain) (0.6.0)\n",
      "Requirement already satisfied: pydantic-core==2.27.1 in d:\\app\\anaconda3\\envs\\coursedesign\\lib\\site-packages (from pydantic<3.0.0,>=2.7.4->langchain) (2.27.1)\n",
      "Requirement already satisfied: python-dotenv>=0.21.0 in d:\\app\\anaconda3\\envs\\coursedesign\\lib\\site-packages (from pydantic-settings<3.0.0,>=2.4.0->langchain-community) (1.0.1)\n",
      "Requirement already satisfied: charset-normalizer<4,>=2 in d:\\app\\anaconda3\\envs\\coursedesign\\lib\\site-packages (from requests<3,>=2->langchain) (3.3.2)\n",
      "Requirement already satisfied: idna<4,>=2.5 in c:\\users\\86183\\appdata\\roaming\\python\\python311\\site-packages (from requests<3,>=2->langchain) (3.6)\n",
      "Requirement already satisfied: urllib3<3,>=1.21.1 in d:\\app\\anaconda3\\envs\\coursedesign\\lib\\site-packages (from requests<3,>=2->langchain) (1.25.11)\n",
      "Requirement already satisfied: certifi>=2017.4.17 in c:\\users\\86183\\appdata\\roaming\\python\\python311\\site-packages (from requests<3,>=2->langchain) (2024.2.2)\n",
      "Requirement already satisfied: greenlet!=0.4.17 in c:\\users\\86183\\appdata\\roaming\\python\\python311\\site-packages (from SQLAlchemy<3,>=1.4->langchain) (3.0.3)\n",
      "Requirement already satisfied: anyio in c:\\users\\86183\\appdata\\roaming\\python\\python311\\site-packages (from httpx<1,>=0.23.0->langsmith<0.3,>=0.1.17->langchain) (4.3.0)\n",
      "Requirement already satisfied: httpcore==1.* in c:\\users\\86183\\appdata\\roaming\\python\\python311\\site-packages (from httpx<1,>=0.23.0->langsmith<0.3,>=0.1.17->langchain) (1.0.5)\n",
      "Requirement already satisfied: sniffio in c:\\users\\86183\\appdata\\roaming\\python\\python311\\site-packages (from httpx<1,>=0.23.0->langsmith<0.3,>=0.1.17->langchain) (1.3.1)\n",
      "Requirement already satisfied: h11<0.15,>=0.13 in d:\\app\\anaconda3\\envs\\coursedesign\\lib\\site-packages (from httpcore==1.*->httpx<1,>=0.23.0->langsmith<0.3,>=0.1.17->langchain) (0.14.0)\n",
      "Requirement already satisfied: jsonpointer>=1.9 in c:\\users\\86183\\appdata\\roaming\\python\\python311\\site-packages (from jsonpatch<2.0,>=1.33->langchain-core<0.4.0,>=0.3.27->langchain-ollama) (2.4)\n",
      "Requirement already satisfied: mypy-extensions>=0.3.0 in d:\\app\\anaconda3\\envs\\coursedesign\\lib\\site-packages (from typing-inspect<1,>=0.4.0->dataclasses-json<0.7,>=0.5.7->langchain-community) (1.0.0)\n"
     ]
    }
   ],
   "execution_count": 1
  },
  {
   "metadata": {
    "ExecuteTime": {
     "end_time": "2024-12-25T12:02:00.149725Z",
     "start_time": "2024-12-25T12:01:53.055057Z"
    }
   },
   "cell_type": "code",
   "source": [
    "from langchain_ollama import ChatOllama\n",
    "\n",
    "model = ChatOllama(model=\"qwen:7b\", temperature=0.7)\n",
    "\n",
    "messages = [\n",
    "    (\"human\", \"你好呀\"),\n",
    "]\n",
    "\n",
    "for chunk in model.stream(messages):\n",
    "    print(chunk.content, end='', flush=True)\n"
   ],
   "id": "b4536085428fcf3a",
   "outputs": [
    {
     "name": "stdout",
     "output_type": "stream",
     "text": [
      "你好！有什么问题或者需要帮助的吗？"
     ]
    }
   ],
   "execution_count": 2
  },
  {
   "metadata": {
    "ExecuteTime": {
     "end_time": "2024-12-25T12:02:02.100687Z",
     "start_time": "2024-12-25T12:02:00.150799Z"
    }
   },
   "cell_type": "code",
   "source": "!conda env list",
   "id": "c4b2415bf435c42",
   "outputs": [
    {
     "name": "stdout",
     "output_type": "stream",
     "text": [
      "# conda environments:\n",
      "#\n",
      "base                     D:\\app\\anaconda3\n",
      "coursedesign          *  D:\\app\\anaconda3\\envs\\coursedesign\n",
      "latex                    D:\\app\\anaconda3\\envs\\latex\n",
      "test                     D:\\app\\anaconda3\\envs\\test\n",
      "\n"
     ]
    }
   ],
   "execution_count": 3
  },
  {
   "metadata": {
    "ExecuteTime": {
     "end_time": "2024-12-25T12:02:05.055517Z",
     "start_time": "2024-12-25T12:02:02.100687Z"
    }
   },
   "cell_type": "code",
   "source": [
    "# 初始化 Ollama 模型和嵌入\n",
    "\n",
    "from langchain_ollama import ChatOllama, OllamaEmbeddings\n",
    "from langchain.text_splitter import RecursiveCharacterTextSplitter\n",
    "from langchain.vectorstores import FAISS\n",
    "from langchain.prompts import ChatPromptTemplate\n",
    "from langchain_core.runnables import RunnablePassthrough\n",
    "\n",
    "llm = ChatOllama(model=\"qwen:7b\")\n",
    "embeddings = OllamaEmbeddings(model=\"nomic-embed-text\")\n",
    "\n",
    "# 准备文档\n",
    "text = \"\"\"\n",
    "Datawhale 是一个专注于数据科学与 AI 领域的开源组织，汇集了众多领域院校和知名企业的优秀学习者，聚合了一群有开源精神和探索精神的团队成员。\n",
    "Datawhale 以\" for the learner，和学习者一起成长\"为愿景，鼓励真实地展现自我、开放包容、互信互助、敢于试错和勇于担当。\n",
    "同时 Datawhale 用开源的理念去探索开源内容、开源学习和开源方案，赋能人才培养，助力人才成长，建立起人与人，人与知识，人与企业和人与未来的联结。\n",
    "如果你想在Datawhale开源社区发起一个开源项目，请详细阅读Datawhale开源项目指南[https://github.com/datawhalechina/DOPMC/blob/main/GUIDE.md]\n",
    "\"\"\"\n",
    "\n",
    "# with open('斗破苍穹.txt', 'r', encoding='utf-8') as file:\n",
    "#     text = file.read()\n",
    "\n",
    "# 分割文本\n",
    "text_splitter = RecursiveCharacterTextSplitter(chunk_size=100, chunk_overlap=20)\n",
    "chunks = text_splitter.split_text(text)\n",
    "\n",
    "print(chunks)\n",
    "# 创建向量存储\n",
    "vectorstore = FAISS.from_texts(chunks, embeddings)\n",
    "retriever = vectorstore.as_retriever()\n",
    "\n",
    "#region 查看vectorstore的信息\n",
    "\"\"\"\n",
    "texts = chunks\n",
    "\n",
    "vectorstore = FAISS.from_texts(texts, embeddings)\n",
    "\n",
    "\n",
    "print(\"向量数量:\", vectorstore.index.ntotal)\n",
    "print(\"文本片段数量:\", len(texts))\n",
    "\n",
    "\n",
    "for i, text in enumerate(texts):\n",
    "    print(f\"文本片段 {i}: {text}\")\n",
    "    print(f\"向量 {i}: {vectorstore.index.reconstruct(i)}\")\n",
    "\n",
    "vector = vectorstore.index.reconstruct(0)\n",
    "print(\"向量维度:\", len(vector))\n",
    "\"\"\"\n",
    "#endregion\n"
   ],
   "id": "4443fd0120e6d5d8",
   "outputs": [
    {
     "name": "stdout",
     "output_type": "stream",
     "text": [
      "['Datawhale 是一个专注于数据科学与 AI 领域的开源组织，汇集了众多领域院校和知名企业的优秀学习者，聚合了一群有开源精神和探索精神的团队成员。', 'Datawhale 以\" for the learner，和学习者一起成长\"为愿景，鼓励真实地展现自我、开放包容、互信互助、敢于试错和勇于担当。', '同时 Datawhale 用开源的理念去探索开源内容、开源学习和开源方案，赋能人才培养，助力人才成长，建立起人与人，人与知识，人与企业和人与未来的联结。', '如果你想在Datawhale开源社区发起一个开源项目，请详细阅读Datawhale开源项目指南[https://github.com/datawhalechina/DOPMC/blob/main/G', 'na/DOPMC/blob/main/GUIDE.md]']\n"
     ]
    },
    {
     "data": {
      "text/plain": [
       "'\\ntexts = chunks\\n\\nvectorstore = FAISS.from_texts(texts, embeddings)\\n\\n\\nprint(\"向量数量:\", vectorstore.index.ntotal)\\nprint(\"文本片段数量:\", len(texts))\\n\\n\\nfor i, text in enumerate(texts):\\n    print(f\"文本片段 {i}: {text}\")\\n    print(f\"向量 {i}: {vectorstore.index.reconstruct(i)}\")\\n\\nvector = vectorstore.index.reconstruct(0)\\nprint(\"向量维度:\", len(vector))\\n'"
      ]
     },
     "execution_count": 4,
     "metadata": {},
     "output_type": "execute_result"
    }
   ],
   "execution_count": 4
  },
  {
   "metadata": {
    "ExecuteTime": {
     "end_time": "2024-12-25T12:02:05.064526Z",
     "start_time": "2024-12-25T12:02:05.055517Z"
    }
   },
   "cell_type": "code",
   "source": [
    "# 创建提示模板\n",
    "template = \"\"\"只能使用下列内容回答问题:\n",
    "{context}\n",
    "\n",
    "Question: {question}\n",
    "\"\"\"\n",
    "prompt = ChatPromptTemplate.from_template(template)\n",
    "\n",
    "print(prompt)"
   ],
   "id": "a96319a3a457cdd2",
   "outputs": [
    {
     "name": "stdout",
     "output_type": "stream",
     "text": [
      "input_variables=['context', 'question'] input_types={} partial_variables={} messages=[HumanMessagePromptTemplate(prompt=PromptTemplate(input_variables=['context', 'question'], input_types={}, partial_variables={}, template='只能使用下列内容回答问题:\\n{context}\\n\\nQuestion: {question}\\n'), additional_kwargs={})]\n"
     ]
    }
   ],
   "execution_count": 5
  },
  {
   "metadata": {
    "ExecuteTime": {
     "end_time": "2024-12-25T12:02:55.382743Z",
     "start_time": "2024-12-25T12:02:05.066191Z"
    }
   },
   "cell_type": "code",
   "source": [
    "from langchain_core.runnables import Runnable\n",
    "\n",
    "class DebugPrompt(Runnable):\n",
    "    def invoke(self, inputs, context):\n",
    "        print(\"最终传递给 llm 的提示:\", inputs)\n",
    "        return inputs\n",
    "\n",
    "# 创建调试步骤\n",
    "debug_prompt = DebugPrompt()\n",
    "\n",
    "# 创建检索-问答链，并插入调试步骤\n",
    "chain = (\n",
    "    {\"context\": retriever, \"question\": RunnablePassthrough()}\n",
    "    | prompt\n",
    "    | debug_prompt\n",
    "    | llm\n",
    ")\n",
    "\n",
    "# 使用链回答问题\n",
    "question = \"datawhale 的愿景是什么\"\n",
    "response = chain.invoke(question)\n"
   ],
   "id": "f68f9ee61d5c608b",
   "outputs": [
    {
     "name": "stdout",
     "output_type": "stream",
     "text": [
      "最终传递给 llm 的提示: messages=[HumanMessage(content='只能使用下列内容回答问题:\\n[Document(id=\\'254c0a5b-d281-4874-8f0e-09dbe328bc54\\', metadata={}, page_content=\\'如果你想在Datawhale开源社区发起一个开源项目，请详细阅读Datawhale开源项目指南[https://github.com/datawhalechina/DOPMC/blob/main/G\\'), Document(id=\\'efe8db3b-5865-442b-a101-c3aada934487\\', metadata={}, page_content=\\'同时 Datawhale 用开源的理念去探索开源内容、开源学习和开源方案，赋能人才培养，助力人才成长，建立起人与人，人与知识，人与企业和人与未来的联结。\\'), Document(id=\\'5fc6519e-6853-4937-b097-0d84d13e257a\\', metadata={}, page_content=\\'Datawhale 是一个专注于数据科学与 AI 领域的开源组织，汇集了众多领域院校和知名企业的优秀学习者，聚合了一群有开源精神和探索精神的团队成员。\\'), Document(id=\\'d3b13873-08ca-4b94-99f8-10aac07856f5\\', metadata={}, page_content=\\'Datawhale 以\" for the learner，和学习者一起成长\"为愿景，鼓励真实地展现自我、开放包容、互信互助、敢于试错和勇于担当。\\')]\\n\\nQuestion: datawhale 的愿景是什么\\n', additional_kwargs={}, response_metadata={})]\n"
     ]
    }
   ],
   "execution_count": 6
  },
  {
   "metadata": {
    "ExecuteTime": {
     "end_time": "2024-12-25T12:02:55.389871Z",
     "start_time": "2024-12-25T12:02:55.384435Z"
    }
   },
   "cell_type": "code",
   "source": "print(response.content)",
   "id": "f457c9211527a74f",
   "outputs": [
    {
     "name": "stdout",
     "output_type": "stream",
     "text": [
      "datawhale的愿景是'for the learner，和学习者一起成长'，鼓励真实展现自我、开放包容等价值观。\n"
     ]
    }
   ],
   "execution_count": 7
  }
 ],
 "metadata": {
  "kernelspec": {
   "display_name": "Python 3",
   "language": "python",
   "name": "python3"
  },
  "language_info": {
   "codemirror_mode": {
    "name": "ipython",
    "version": 2
   },
   "file_extension": ".py",
   "mimetype": "text/x-python",
   "name": "python",
   "nbconvert_exporter": "python",
   "pygments_lexer": "ipython2",
   "version": "2.7.6"
  }
 },
 "nbformat": 4,
 "nbformat_minor": 5
}
