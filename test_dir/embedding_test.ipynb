{
 "cells": [
  {
   "cell_type": "code",
   "id": "initial_id",
   "metadata": {
    "collapsed": true,
    "ExecuteTime": {
     "end_time": "2024-12-25T12:29:13.386571Z",
     "start_time": "2024-12-25T12:29:11.467261Z"
    }
   },
   "source": "!pip install sentence_transformers",
   "outputs": [
    {
     "name": "stdout",
     "output_type": "stream",
     "text": [
      "Requirement already satisfied: sentence_transformers in c:\\users\\86183\\appdata\\roaming\\python\\python311\\site-packages (3.0.1)\n",
      "Requirement already satisfied: transformers<5.0.0,>=4.34.0 in d:\\app\\anaconda3\\envs\\coursedesign\\lib\\site-packages (from sentence_transformers) (4.41.2)\n",
      "Requirement already satisfied: tqdm in d:\\app\\anaconda3\\envs\\coursedesign\\lib\\site-packages (from sentence_transformers) (4.66.2)\n",
      "Requirement already satisfied: torch>=1.11.0 in c:\\users\\86183\\appdata\\roaming\\python\\python311\\site-packages (from sentence_transformers) (2.3.1)\n",
      "Requirement already satisfied: numpy in d:\\app\\anaconda3\\envs\\coursedesign\\lib\\site-packages (from sentence_transformers) (1.26.4)\n",
      "Requirement already satisfied: scikit-learn in c:\\users\\86183\\appdata\\roaming\\python\\python311\\site-packages (from sentence_transformers) (1.5.0)\n",
      "Requirement already satisfied: scipy in d:\\app\\anaconda3\\envs\\coursedesign\\lib\\site-packages (from sentence_transformers) (1.13.1)\n",
      "Requirement already satisfied: huggingface-hub>=0.15.1 in c:\\users\\86183\\appdata\\roaming\\python\\python311\\site-packages (from sentence_transformers) (0.23.3)\n",
      "Requirement already satisfied: Pillow in d:\\app\\anaconda3\\envs\\coursedesign\\lib\\site-packages (from sentence_transformers) (10.3.0)\n",
      "Requirement already satisfied: filelock in c:\\users\\86183\\appdata\\roaming\\python\\python311\\site-packages (from huggingface-hub>=0.15.1->sentence_transformers) (3.13.4)\n",
      "Requirement already satisfied: fsspec>=2023.5.0 in d:\\app\\anaconda3\\envs\\coursedesign\\lib\\site-packages (from huggingface-hub>=0.15.1->sentence_transformers) (2024.3.1)\n",
      "Requirement already satisfied: packaging>=20.9 in d:\\app\\anaconda3\\envs\\coursedesign\\lib\\site-packages (from huggingface-hub>=0.15.1->sentence_transformers) (23.2)\n",
      "Requirement already satisfied: pyyaml>=5.1 in d:\\app\\anaconda3\\envs\\coursedesign\\lib\\site-packages (from huggingface-hub>=0.15.1->sentence_transformers) (6.0.1)\n",
      "Requirement already satisfied: requests in d:\\app\\anaconda3\\envs\\coursedesign\\lib\\site-packages (from huggingface-hub>=0.15.1->sentence_transformers) (2.32.3)\n",
      "Requirement already satisfied: typing-extensions>=3.7.4.3 in d:\\app\\anaconda3\\envs\\coursedesign\\lib\\site-packages (from huggingface-hub>=0.15.1->sentence_transformers) (4.12.2)\n",
      "Requirement already satisfied: sympy in c:\\users\\86183\\appdata\\roaming\\python\\python311\\site-packages (from torch>=1.11.0->sentence_transformers) (1.12.1)\n",
      "Requirement already satisfied: networkx in d:\\app\\anaconda3\\envs\\coursedesign\\lib\\site-packages (from torch>=1.11.0->sentence_transformers) (3.2.1)\n",
      "Requirement already satisfied: jinja2 in d:\\app\\anaconda3\\envs\\coursedesign\\lib\\site-packages (from torch>=1.11.0->sentence_transformers) (3.1.3)\n",
      "Requirement already satisfied: mkl<=2021.4.0,>=2021.1.1 in c:\\users\\86183\\appdata\\roaming\\python\\python311\\site-packages (from torch>=1.11.0->sentence_transformers) (2021.4.0)\n",
      "Requirement already satisfied: colorama in d:\\app\\anaconda3\\envs\\coursedesign\\lib\\site-packages (from tqdm->sentence_transformers) (0.4.6)\n",
      "Requirement already satisfied: regex!=2019.12.17 in c:\\users\\86183\\appdata\\roaming\\python\\python311\\site-packages (from transformers<5.0.0,>=4.34.0->sentence_transformers) (2024.4.16)\n",
      "Requirement already satisfied: tokenizers<0.20,>=0.19 in d:\\app\\anaconda3\\envs\\coursedesign\\lib\\site-packages (from transformers<5.0.0,>=4.34.0->sentence_transformers) (0.19.1)\n",
      "Requirement already satisfied: safetensors>=0.4.1 in c:\\users\\86183\\appdata\\roaming\\python\\python311\\site-packages (from transformers<5.0.0,>=4.34.0->sentence_transformers) (0.4.3)\n",
      "Requirement already satisfied: joblib>=1.2.0 in d:\\app\\anaconda3\\envs\\coursedesign\\lib\\site-packages (from scikit-learn->sentence_transformers) (1.4.2)\n",
      "Requirement already satisfied: threadpoolctl>=3.1.0 in d:\\app\\anaconda3\\envs\\coursedesign\\lib\\site-packages (from scikit-learn->sentence_transformers) (3.5.0)\n",
      "Requirement already satisfied: intel-openmp==2021.* in c:\\users\\86183\\appdata\\roaming\\python\\python311\\site-packages (from mkl<=2021.4.0,>=2021.1.1->torch>=1.11.0->sentence_transformers) (2021.4.0)\n",
      "Requirement already satisfied: tbb==2021.* in d:\\app\\anaconda3\\envs\\coursedesign\\lib\\site-packages (from mkl<=2021.4.0,>=2021.1.1->torch>=1.11.0->sentence_transformers) (2021.12.0)\n",
      "Requirement already satisfied: MarkupSafe>=2.0 in c:\\users\\86183\\appdata\\roaming\\python\\python311\\site-packages (from jinja2->torch>=1.11.0->sentence_transformers) (2.1.5)\n",
      "Requirement already satisfied: charset-normalizer<4,>=2 in d:\\app\\anaconda3\\envs\\coursedesign\\lib\\site-packages (from requests->huggingface-hub>=0.15.1->sentence_transformers) (3.3.2)\n",
      "Requirement already satisfied: idna<4,>=2.5 in c:\\users\\86183\\appdata\\roaming\\python\\python311\\site-packages (from requests->huggingface-hub>=0.15.1->sentence_transformers) (3.6)\n",
      "Requirement already satisfied: urllib3<3,>=1.21.1 in d:\\app\\anaconda3\\envs\\coursedesign\\lib\\site-packages (from requests->huggingface-hub>=0.15.1->sentence_transformers) (1.25.11)\n",
      "Requirement already satisfied: certifi>=2017.4.17 in c:\\users\\86183\\appdata\\roaming\\python\\python311\\site-packages (from requests->huggingface-hub>=0.15.1->sentence_transformers) (2024.2.2)\n",
      "Requirement already satisfied: mpmath<1.4.0,>=1.1.0 in d:\\app\\anaconda3\\envs\\coursedesign\\lib\\site-packages (from sympy->torch>=1.11.0->sentence_transformers) (1.3.0)\n"
     ]
    }
   ],
   "execution_count": 20
  },
  {
   "metadata": {
    "ExecuteTime": {
     "end_time": "2024-12-27T09:08:55.037328Z",
     "start_time": "2024-12-27T09:06:57.787029Z"
    }
   },
   "cell_type": "code",
   "source": [
    "from sentence_transformers import SentenceTransformer\n",
    "\n",
    "model = SentenceTransformer(\"BAAI/bge-large-zh-v1.5\")"
   ],
   "id": "a9d261626d8551d2",
   "outputs": [
    {
     "data": {
      "text/plain": [
       "modules.json:   0%|          | 0.00/349 [00:00<?, ?B/s]"
      ],
      "application/vnd.jupyter.widget-view+json": {
       "version_major": 2,
       "version_minor": 0,
       "model_id": "7a5b95e918db49258473adaee48770dc"
      }
     },
     "metadata": {},
     "output_type": "display_data"
    },
    {
     "name": "stderr",
     "output_type": "stream",
     "text": [
      "C:\\Users\\86183\\AppData\\Roaming\\Python\\Python311\\site-packages\\huggingface_hub\\file_download.py:157: UserWarning: `huggingface_hub` cache-system uses symlinks by default to efficiently store duplicated files but your machine does not support them in C:\\Users\\86183\\.cache\\huggingface\\hub\\models--BAAI--bge-large-zh-v1.5. Caching files will still work but in a degraded version that might require more space on your disk. This warning can be disabled by setting the `HF_HUB_DISABLE_SYMLINKS_WARNING` environment variable. For more details, see https://huggingface.co/docs/huggingface_hub/how-to-cache#limitations.\n",
      "To support symlinks on Windows, you either need to activate Developer Mode or to run Python as an administrator. In order to see activate developer mode, see this article: https://docs.microsoft.com/en-us/windows/apps/get-started/enable-your-device-for-development\n",
      "  warnings.warn(message)\n"
     ]
    },
    {
     "data": {
      "text/plain": [
       "config_sentence_transformers.json:   0%|          | 0.00/124 [00:00<?, ?B/s]"
      ],
      "application/vnd.jupyter.widget-view+json": {
       "version_major": 2,
       "version_minor": 0,
       "model_id": "f109f3a007fb46c2b89a01b43e90139e"
      }
     },
     "metadata": {},
     "output_type": "display_data"
    },
    {
     "data": {
      "text/plain": [
       "README.md:   0%|          | 0.00/30.4k [00:00<?, ?B/s]"
      ],
      "application/vnd.jupyter.widget-view+json": {
       "version_major": 2,
       "version_minor": 0,
       "model_id": "a2db3c3225a441e8b8b6e0ee3f8835c1"
      }
     },
     "metadata": {},
     "output_type": "display_data"
    },
    {
     "data": {
      "text/plain": [
       "sentence_bert_config.json:   0%|          | 0.00/52.0 [00:00<?, ?B/s]"
      ],
      "application/vnd.jupyter.widget-view+json": {
       "version_major": 2,
       "version_minor": 0,
       "model_id": "5e8003cca32f4a8d925d70e533270bf9"
      }
     },
     "metadata": {},
     "output_type": "display_data"
    },
    {
     "data": {
      "text/plain": [
       "config.json:   0%|          | 0.00/1.00k [00:00<?, ?B/s]"
      ],
      "application/vnd.jupyter.widget-view+json": {
       "version_major": 2,
       "version_minor": 0,
       "model_id": "35438e8c14d24ab9af80121498b8a3ec"
      }
     },
     "metadata": {},
     "output_type": "display_data"
    },
    {
     "data": {
      "text/plain": [
       "pytorch_model.bin:   0%|          | 0.00/1.30G [00:00<?, ?B/s]"
      ],
      "application/vnd.jupyter.widget-view+json": {
       "version_major": 2,
       "version_minor": 0,
       "model_id": "2c563233290b4fafa1c9c21948e47e3c"
      }
     },
     "metadata": {},
     "output_type": "display_data"
    },
    {
     "data": {
      "text/plain": [
       "tokenizer_config.json:   0%|          | 0.00/394 [00:00<?, ?B/s]"
      ],
      "application/vnd.jupyter.widget-view+json": {
       "version_major": 2,
       "version_minor": 0,
       "model_id": "48fcf7b2c7114393afe72e3da79479c2"
      }
     },
     "metadata": {},
     "output_type": "display_data"
    },
    {
     "data": {
      "text/plain": [
       "vocab.txt:   0%|          | 0.00/110k [00:00<?, ?B/s]"
      ],
      "application/vnd.jupyter.widget-view+json": {
       "version_major": 2,
       "version_minor": 0,
       "model_id": "230432b948214471acfaecf879e785c2"
      }
     },
     "metadata": {},
     "output_type": "display_data"
    },
    {
     "data": {
      "text/plain": [
       "tokenizer.json:   0%|          | 0.00/439k [00:00<?, ?B/s]"
      ],
      "application/vnd.jupyter.widget-view+json": {
       "version_major": 2,
       "version_minor": 0,
       "model_id": "adabaf4762734127876fb96610f376ce"
      }
     },
     "metadata": {},
     "output_type": "display_data"
    },
    {
     "data": {
      "text/plain": [
       "special_tokens_map.json:   0%|          | 0.00/125 [00:00<?, ?B/s]"
      ],
      "application/vnd.jupyter.widget-view+json": {
       "version_major": 2,
       "version_minor": 0,
       "model_id": "b1f9b4c6a0704c33a39d4a862aaafe8e"
      }
     },
     "metadata": {},
     "output_type": "display_data"
    },
    {
     "data": {
      "text/plain": [
       "1_Pooling/config.json:   0%|          | 0.00/191 [00:00<?, ?B/s]"
      ],
      "application/vnd.jupyter.widget-view+json": {
       "version_major": 2,
       "version_minor": 0,
       "model_id": "5b3a51e284b64c2cbe725d5573b63a5b"
      }
     },
     "metadata": {},
     "output_type": "display_data"
    }
   ],
   "execution_count": 2
  },
  {
   "metadata": {
    "ExecuteTime": {
     "end_time": "2024-12-27T09:57:34.302522Z",
     "start_time": "2024-12-27T09:57:32.137550Z"
    }
   },
   "cell_type": "code",
   "source": [
    "sentence = [\"我是一名华中科技大学的学生\",\n",
    "            \"我是一名华中科技大学的研究生\",\n",
    "            \"我是一名华中科技大学的博士生\",\n",
    "            \"我是一名华中科技大学的教授\",\n",
    "            \"我是一名华中科技大学的博士后\"]\n",
    "\n",
    "embeddings = model.encode(sentence)\n",
    "print(embeddings.shape)"
   ],
   "id": "21a41bd88abc877b",
   "outputs": [
    {
     "name": "stdout",
     "output_type": "stream",
     "text": [
      "(5, 1024)\n"
     ]
    }
   ],
   "execution_count": 8
  },
  {
   "metadata": {
    "ExecuteTime": {
     "end_time": "2024-12-27T09:57:35.731940Z",
     "start_time": "2024-12-27T09:57:35.716070Z"
    }
   },
   "cell_type": "code",
   "source": [
    "similarities = model.similarity(embeddings, embeddings)\n",
    "print(similarities)"
   ],
   "id": "c593558e20d5914a",
   "outputs": [
    {
     "name": "stdout",
     "output_type": "stream",
     "text": [
      "tensor([[1.0000, 0.8940, 0.8717, 0.7857, 0.7698],\n",
      "        [0.8940, 1.0000, 0.8893, 0.8196, 0.8046],\n",
      "        [0.8717, 0.8893, 1.0000, 0.8528, 0.8869],\n",
      "        [0.7857, 0.8196, 0.8528, 1.0000, 0.8082],\n",
      "        [0.7698, 0.8046, 0.8869, 0.8082, 1.0000]])\n"
     ]
    }
   ],
   "execution_count": 9
  },
  {
   "metadata": {},
   "cell_type": "markdown",
   "source": "可以看到已经打印了五个embedding的相似矩阵。",
   "id": "d4dd46ef4f9bfcee"
  },
  {
   "metadata": {},
   "cell_type": "markdown",
   "source": "Milvus中的SentenceTransformerEmbeddingFunction类可以直接使用sentence-transformers库中的模型，将文本转换为向量。",
   "id": "f4026d4838b08b2a"
  },
  {
   "metadata": {
    "ExecuteTime": {
     "end_time": "2024-12-27T09:59:42.366361Z",
     "start_time": "2024-12-27T09:59:38.040595Z"
    }
   },
   "cell_type": "code",
   "source": [
    "#实例化SentenceTransformerEmbeddingFunction类\n",
    "from pymilvus import model\n",
    "sentence_transformer_ef = model.dense.SentenceTransformerEmbeddingFunction(model_name=\"BAAI/bge-large-zh-v1.5\", device=\"cpu\")\n",
    "#model_name指明模型名称，https://www.sbert.net/docs/sentence_transformer/pretrained_models.html\n",
    "#device指明设备，cpu或gpu，如果你有GPU，指明cuda:n"
   ],
   "id": "6f659459a27fd522",
   "outputs": [],
   "execution_count": 17
  },
  {
   "metadata": {},
   "cell_type": "markdown",
   "source": "生成文档的嵌入，用encode_documents, 查询词的嵌入，用encode_queries。",
   "id": "a5be2c765217cf70"
  },
  {
   "metadata": {
    "ExecuteTime": {
     "end_time": "2024-12-27T09:59:44.619054Z",
     "start_time": "2024-12-27T09:59:44.383344Z"
    }
   },
   "cell_type": "code",
   "source": [
    "docs = [\"我是一名华中科技大学的本科生\",\n",
    "        \"我是一名华中科技大学的研究生\",\n",
    "        \"我是一名华中科技大学的博士生\",\n",
    "        \"我是一名华中科技大学的教授\",\n",
    "        \"我是一名华中科技大学的博士后\"]\n",
    "\n",
    "doc_embeddings = sentence_transformer_ef.encode_documents(docs)"
   ],
   "id": "c31fe9e1d5b04a36",
   "outputs": [],
   "execution_count": 18
  },
  {
   "metadata": {
    "ExecuteTime": {
     "end_time": "2024-12-27T09:59:46.233146Z",
     "start_time": "2024-12-27T09:59:46.225768Z"
    }
   },
   "cell_type": "code",
   "source": "print(\"Embeddings:\", doc_embeddings)",
   "id": "d603dc297be7f6ca",
   "outputs": [
    {
     "name": "stdout",
     "output_type": "stream",
     "text": [
      "Embeddings: [array([ 0.01794943, -0.00391062, -0.01233195, ...,  0.018736  ,\n",
      "        0.00485343, -0.01004627], dtype=float32), array([ 0.01856543, -0.04237414, -0.01518301, ...,  0.01370529,\n",
      "        0.02317346, -0.01424969], dtype=float32), array([ 0.0370553 , -0.00143078, -0.01127295, ...,  0.0066506 ,\n",
      "        0.01011249, -0.01192932], dtype=float32), array([ 0.03445444,  0.00329653, -0.0220389 , ...,  0.01795297,\n",
      "       -0.00550245, -0.02812228], dtype=float32), array([ 0.06066893,  0.0148532 , -0.02270859, ..., -0.0053867 ,\n",
      "        0.0153412 , -0.00186932], dtype=float32)]\n"
     ]
    }
   ],
   "execution_count": 19
  },
  {
   "metadata": {
    "ExecuteTime": {
     "end_time": "2024-12-27T09:59:51.349447Z",
     "start_time": "2024-12-27T09:59:51.343965Z"
    }
   },
   "cell_type": "code",
   "source": "print(\"dim:\", sentence_transformer_ef.dim)",
   "id": "320856c0c6ea17aa",
   "outputs": [
    {
     "name": "stdout",
     "output_type": "stream",
     "text": [
      "dim: 1024\n"
     ]
    }
   ],
   "execution_count": 20
  },
  {
   "metadata": {},
   "cell_type": "markdown",
   "source": "",
   "id": "beab2ec13732e8a8"
  },
  {
   "metadata": {
    "ExecuteTime": {
     "end_time": "2024-12-27T10:00:02.672723Z",
     "start_time": "2024-12-27T10:00:02.665738Z"
    }
   },
   "cell_type": "code",
   "source": "print(\"shape:\",doc_embeddings[0].shape)",
   "id": "bc14536580e82c7c",
   "outputs": [
    {
     "name": "stdout",
     "output_type": "stream",
     "text": [
      "shape: (1024,)\n"
     ]
    }
   ],
   "execution_count": 21
  },
  {
   "metadata": {
    "ExecuteTime": {
     "end_time": "2024-12-27T10:00:05.709412Z",
     "start_time": "2024-12-27T10:00:05.589223Z"
    }
   },
   "cell_type": "code",
   "source": [
    "query = [\"我是哪里的学生\",\n",
    "         \"我的学位是什么\"]\n",
    "query_embeddings = sentence_transformer_ef.encode_queries(query)"
   ],
   "id": "f42ce708464970ee",
   "outputs": [],
   "execution_count": 22
  },
  {
   "metadata": {
    "ExecuteTime": {
     "end_time": "2024-12-27T10:00:07.103837Z",
     "start_time": "2024-12-27T10:00:07.092191Z"
    }
   },
   "cell_type": "code",
   "source": "print(\"Embeddings:\", query_embeddings)",
   "id": "18494f33c48aa58f",
   "outputs": [
    {
     "name": "stdout",
     "output_type": "stream",
     "text": [
      "Embeddings: [array([-0.00352036,  0.00869108,  0.01306175, ..., -0.00804216,\n",
      "       -0.04357335, -0.07088969], dtype=float32), array([ 0.02859825, -0.02577852,  0.04080642, ...,  0.01069155,\n",
      "        0.0172263 ,  0.0061195 ], dtype=float32)]\n"
     ]
    }
   ],
   "execution_count": 23
  },
  {
   "metadata": {
    "ExecuteTime": {
     "end_time": "2024-12-27T10:00:09.243614Z",
     "start_time": "2024-12-27T10:00:09.232355Z"
    }
   },
   "cell_type": "code",
   "source": "print(\"dim:\", sentence_transformer_ef.dim)",
   "id": "e48a052518f3a5d3",
   "outputs": [
    {
     "name": "stdout",
     "output_type": "stream",
     "text": [
      "dim: 1024\n"
     ]
    }
   ],
   "execution_count": 24
  },
  {
   "metadata": {
    "ExecuteTime": {
     "end_time": "2024-12-27T10:00:10.528827Z",
     "start_time": "2024-12-27T10:00:10.517580Z"
    }
   },
   "cell_type": "code",
   "source": "print(\"shape:\",query_embeddings[0].shape)",
   "id": "5c8a325c3420f24f",
   "outputs": [
    {
     "name": "stdout",
     "output_type": "stream",
     "text": [
      "shape: (1024,)\n"
     ]
    }
   ],
   "execution_count": 25
  }
 ],
 "metadata": {
  "kernelspec": {
   "display_name": "Python 3",
   "language": "python",
   "name": "python3"
  },
  "language_info": {
   "codemirror_mode": {
    "name": "ipython",
    "version": 2
   },
   "file_extension": ".py",
   "mimetype": "text/x-python",
   "name": "python",
   "nbconvert_exporter": "python",
   "pygments_lexer": "ipython2",
   "version": "2.7.6"
  }
 },
 "nbformat": 4,
 "nbformat_minor": 5
}
